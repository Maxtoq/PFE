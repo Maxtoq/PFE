{
 "cells": [
  {
   "cell_type": "code",
   "execution_count": 1,
   "metadata": {},
   "outputs": [],
   "source": [
    "from tensorflow.keras.models import Sequential\n",
    "from tensorflow.keras.layers import Dense, Dropout, Flatten, Lambda\n",
    "from tensorflow.keras.layers import Conv3D, MaxPooling3D, ZeroPadding3D\n",
    "from tensorflow.keras.optimizers import Adam"
   ]
  },
  {
   "cell_type": "code",
   "execution_count": 2,
   "metadata": {},
   "outputs": [],
   "source": [
    "def get_3dConv_model():\n",
    "    model = Sequential()\n",
    "\n",
    "    # 1st layer group\n",
    "    model.add(Conv3D(64, (3, 3, 3), activation=\"relu\",name=\"conv1\", \n",
    "                     input_shape=(10,150,150,3),\n",
    "                     strides=(1, 1, 1), padding=\"same\"))  \n",
    "    model.add(MaxPooling3D(pool_size=(1, 2, 2), strides=(1, 2, 2), name=\"pool1\", padding=\"valid\"))\n",
    "\n",
    "    # 2nd layer group  \n",
    "    model.add(Conv3D(128, (3, 3, 3), activation=\"relu\",name=\"conv2\", \n",
    "                     strides=(1, 1, 1), padding=\"same\"))\n",
    "    model.add(MaxPooling3D(pool_size=(2, 2, 2), strides=(2, 2, 2), name=\"pool2\", padding=\"valid\"))\n",
    "\n",
    "    # 3rd layer group   \n",
    "    model.add(Conv3D(256, (3, 3, 3), activation=\"relu\",name=\"conv3a\", \n",
    "                     strides=(1, 1, 1), padding=\"same\"))\n",
    "    #model.add(Conv3D(256, (3, 3, 3), activation=\"relu\",name=\"conv3b\", \n",
    "    #                 strides=(1, 1, 1), padding=\"same\"))\n",
    "    model.add(MaxPooling3D(pool_size=(1, 2, 2), strides=(1, 2, 2), name=\"pool3\", padding=\"valid\"))\n",
    "\n",
    "    # 4th layer group  \n",
    "    model.add(Conv3D(256, (3, 3, 3), activation=\"relu\",name=\"conv4a\", \n",
    "                     strides=(1, 1, 1), padding=\"same\"))   \n",
    "    #model.add(Conv3D(256, (3, 3, 3), activation=\"relu\",name=\"conv4b\", \n",
    "    #                 strides=(1, 1, 1), padding=\"same\"))\n",
    "    model.add(MaxPooling3D(pool_size=(2, 2, 2), strides=(2, 2, 2), name=\"pool4\", padding=\"valid\"))\n",
    "\n",
    "    # 5th layer group  \n",
    "    model.add(Conv3D(512, (3, 3, 3), activation=\"relu\",name=\"conv5a\", \n",
    "                     strides=(1, 1, 1), padding=\"same\"))   \n",
    "    #model.add(Conv3D(512, (3, 3, 3), activation=\"relu\",name=\"conv5b\",\n",
    "    #                  strides=(1, 1, 1), padding=\"same\"))\n",
    "    model.add(MaxPooling3D(pool_size=(1, 2, 2), strides=(1, 2, 2), name=\"pool5\", padding=\"valid\"))\n",
    "    model.add(Flatten())\n",
    "                     \n",
    "    # FC layers group\n",
    "    model.add(Dense(2, activation='softmax', name='fc8'))\n",
    "\n",
    "    model.compile(\n",
    "        optimizer=Adam(lr=0.0002, beta_1=0.9, beta_2=0.999, epsilon=1e-08, decay=0.0),\n",
    "        loss='categorical_crossentropy',\n",
    "        metrics=['accuracy']\n",
    "    )\n",
    "    \n",
    "    return model"
   ]
  },
  {
   "cell_type": "code",
   "execution_count": 3,
   "metadata": {},
   "outputs": [
    {
     "name": "stdout",
     "output_type": "stream",
     "text": [
      "Model: \"sequential\"\n",
      "_________________________________________________________________\n",
      "Layer (type)                 Output Shape              Param #   \n",
      "=================================================================\n",
      "conv1 (Conv3D)               (None, 10, 150, 150, 64)  5248      \n",
      "_________________________________________________________________\n",
      "pool1 (MaxPooling3D)         (None, 10, 75, 75, 64)    0         \n",
      "_________________________________________________________________\n",
      "conv2 (Conv3D)               (None, 10, 75, 75, 128)   221312    \n",
      "_________________________________________________________________\n",
      "pool2 (MaxPooling3D)         (None, 5, 37, 37, 128)    0         \n",
      "_________________________________________________________________\n",
      "conv3a (Conv3D)              (None, 5, 37, 37, 256)    884992    \n",
      "_________________________________________________________________\n",
      "pool3 (MaxPooling3D)         (None, 5, 18, 18, 256)    0         \n",
      "_________________________________________________________________\n",
      "conv4a (Conv3D)              (None, 5, 18, 18, 256)    1769728   \n",
      "_________________________________________________________________\n",
      "pool4 (MaxPooling3D)         (None, 2, 9, 9, 256)      0         \n",
      "_________________________________________________________________\n",
      "conv5a (Conv3D)              (None, 2, 9, 9, 512)      3539456   \n",
      "_________________________________________________________________\n",
      "pool5 (MaxPooling3D)         (None, 2, 4, 4, 512)      0         \n",
      "_________________________________________________________________\n",
      "flatten (Flatten)            (None, 16384)             0         \n",
      "_________________________________________________________________\n",
      "fc8 (Dense)                  (None, 2)                 32770     \n",
      "=================================================================\n",
      "Total params: 6,453,506\n",
      "Trainable params: 6,453,506\n",
      "Non-trainable params: 0\n",
      "_________________________________________________________________\n"
     ]
    }
   ],
   "source": [
    "my_model = get_3dConv_model()\n",
    "my_model.summary()"
   ]
  },
  {
   "cell_type": "code",
   "execution_count": 13,
   "metadata": {},
   "outputs": [],
   "source": [
    "import torch\n",
    "import torch.nn as nn\n",
    "import torch.nn.functional as F\n",
    "import numpy as np"
   ]
  },
  {
   "cell_type": "code",
   "execution_count": 6,
   "metadata": {},
   "outputs": [
    {
     "data": {
      "text/plain": [
       "True"
      ]
     },
     "execution_count": 6,
     "metadata": {},
     "output_type": "execute_result"
    }
   ],
   "source": [
    "torch.cuda.is_available()"
   ]
  },
  {
   "cell_type": "code",
   "execution_count": 32,
   "metadata": {},
   "outputs": [],
   "source": [
    "class DeepFakeDetector(torch.nn.Module):\n",
    "    \n",
    "    def __init__(self):\n",
    "        super(DeepFakeDetector, self).__init__()\n",
    "        # 1st 3D Conv layer\n",
    "        self.conv3D_1 = nn.Conv3d(in_channels=3, out_channels=64, kernel_size=3, stride=1, padding=1)\n",
    "        self.maxpool3D_1 = nn.MaxPool3d(kernel_size=(1, 2, 2), stride=(1, 2, 2))\n",
    "        \n",
    "        # 2nd 3D Conv layer\n",
    "        self.conv3D_2 = nn.Conv3d(in_channels=64, out_channels=128, kernel_size=3, stride=1, padding=1)\n",
    "        self.maxpool3D_2 = nn.MaxPool3d(kernel_size=2, stride=2)\n",
    "        \n",
    "        # 3rd 3D Conv layer\n",
    "        self.conv3D_3a = nn.Conv3d(in_channels=128, out_channels=256, kernel_size=3, stride=1, padding=1)\n",
    "        self.conv3D_3b = nn.Conv3d(in_channels=256, out_channels=256, kernel_size=3, stride=1, padding=1)\n",
    "        self.maxpool3D_3 = nn.MaxPool3d(kernel_size=(1, 2, 2), stride=(1, 2, 2))\n",
    "        \n",
    "        # 4th 3D Conv layer\n",
    "        self.conv3D_4a = nn.Conv3d(in_channels=256, out_channels=256, kernel_size=3, stride=1, padding=1)\n",
    "        self.conv3D_4b = nn.Conv3d(in_channels=256, out_channels=256, kernel_size=3, stride=1, padding=1)\n",
    "        self.maxpool3D_4 = nn.MaxPool3d(kernel_size=2, stride=2)\n",
    "        \n",
    "        # 5th 3D Conv layer\n",
    "        self.conv3D_5a = nn.Conv3d(in_channels=256, out_channels=512, kernel_size=3, stride=1, padding=1)\n",
    "        self.conv3D_5b = nn.Conv3d(in_channels=512, out_channels=512, kernel_size=3, stride=1, padding=1)\n",
    "        self.maxpool3D_5 = nn.MaxPool3d(kernel_size=(1, 2, 2), stride=(1, 2, 2))\n",
    "        \n",
    "        # Fully Connected layer\n",
    "        self.fc_1 = nn.Linear(in_features=16384, out_features=512)\n",
    "        self.output = nn.Linear(in_features=512, out_features=2)\n",
    "        \n",
    "    def forward(self, x):\n",
    "        out = F.relu(self.conv3D_1(x))\n",
    "        out = self.maxpool3D_1(out)\n",
    "        \n",
    "        out = F.relu(self.conv3D_2(out))\n",
    "        out = self.maxpool3D_2(out)\n",
    "        \n",
    "        out = F.relu(self.conv3D_3a(out))\n",
    "        out = F.relu(self.conv3D_3b(out))\n",
    "        out = self.maxpool3D_3(out)\n",
    "        \n",
    "        out = F.relu(self.conv3D_4a(out))\n",
    "        out = F.relu(self.conv3D_4b(out))\n",
    "        out = self.maxpool3D_4(out)\n",
    "        \n",
    "        out = F.relu(self.conv3D_5a(out))\n",
    "        out = F.relu(self.conv3D_5b(out))\n",
    "        out = self.maxpool3D_5(out)\n",
    "        \n",
    "        out = torch.flatten(out, start_dim=1)\n",
    "        \n",
    "        out = F.relu(self.fc_1(out))\n",
    "        out = self.output(out)\n",
    "        out = nn.Softmax(dim=1)(out)\n",
    "        \n",
    "        return out"
   ]
  },
  {
   "cell_type": "code",
   "execution_count": 33,
   "metadata": {},
   "outputs": [
    {
     "data": {
      "text/plain": [
       "tensor([[0.4988, 0.5012],\n",
       "        [0.4988, 0.5012]], grad_fn=<SoftmaxBackward>)"
      ]
     },
     "execution_count": 33,
     "metadata": {},
     "output_type": "execute_result"
    }
   ],
   "source": [
    "m = DeepFakeDetector()\n",
    "a = torch.zeros(2, 3, 10, 150, 150)\n",
    "b = m(a)\n",
    "b"
   ]
  },
  {
   "cell_type": "code",
   "execution_count": 40,
   "metadata": {},
   "outputs": [],
   "source": [
    "from torchvision import transforms\n",
    "from PIL import Image as pil_image\n",
    "import cv2\n",
    "\n",
    "t = transforms.Compose([\n",
    "    transforms.Resize((299, 299)),\n",
    "    transforms.ToTensor(),\n",
    "    transforms.Normalize([0.5] * 3, [0.5] * 3)\n",
    "])"
   ]
  },
  {
   "cell_type": "code",
   "execution_count": 49,
   "metadata": {},
   "outputs": [
    {
     "name": "stdout",
     "output_type": "stream",
     "text": [
      "(150, 150, 3)\n",
      "(150, 150, 3)\n",
      "(150, 150)\n"
     ]
    },
    {
     "data": {
      "text/plain": [
       "torch.Size([3, 299, 299])"
      ]
     },
     "execution_count": 49,
     "metadata": {},
     "output_type": "execute_result"
    }
   ],
   "source": [
    "a = np.zeros((150, 150, 3), dtype=np.float32)\n",
    "print(a.shape)\n",
    "a = cv2.cvtColor(a, cv2.COLOR_BGR2RGB)\n",
    "print(a.shape)\n",
    "b = pil_image.fromarray(np.uint8(a))\n",
    "print(b.size)\n",
    "b = t(b)\n",
    "b.shape"
   ]
  },
  {
   "cell_type": "code",
   "execution_count": 54,
   "metadata": {},
   "outputs": [
    {
     "data": {
      "text/plain": [
       "tensor([[[ 0.8146, -0.4564],\n",
       "         [-0.1064,  0.2428],\n",
       "         [-0.9425, -0.5104]],\n",
       "\n",
       "        [[-0.1018, -0.7361],\n",
       "         [-0.4267, -2.2279],\n",
       "         [-0.7795,  2.7883]]])"
      ]
     },
     "execution_count": 54,
     "metadata": {},
     "output_type": "execute_result"
    }
   ],
   "source": [
    "e = torch.randn(2, 3, 2)\n",
    "e"
   ]
  },
  {
   "cell_type": "code",
   "execution_count": 55,
   "metadata": {},
   "outputs": [
    {
     "data": {
      "text/plain": [
       "tensor([[[ 0.8146, -0.1018],\n",
       "         [-0.1064, -0.4267],\n",
       "         [-0.9425, -0.7795]],\n",
       "\n",
       "        [[-0.4564, -0.7361],\n",
       "         [ 0.2428, -2.2279],\n",
       "         [-0.5104,  2.7883]]])"
      ]
     },
     "execution_count": 55,
     "metadata": {},
     "output_type": "execute_result"
    }
   ],
   "source": [
    "e.permute(2, 1, 0)"
   ]
  },
  {
   "cell_type": "code",
   "execution_count": 2,
   "metadata": {},
   "outputs": [
    {
     "data": {
      "text/plain": [
       "torch.Size([10, 2, 3])"
      ]
     },
     "execution_count": 2,
     "metadata": {},
     "output_type": "execute_result"
    }
   ],
   "source": [
    "import torch\n",
    "\n",
    "a = torch.zeros(10, 2, 3)\n",
    "a.shape"
   ]
  },
  {
   "cell_type": "code",
   "execution_count": 5,
   "metadata": {},
   "outputs": [
    {
     "data": {
      "text/plain": [
       "torch.Size([10, 1, 2, 3])"
      ]
     },
     "execution_count": 5,
     "metadata": {},
     "output_type": "execute_result"
    }
   ],
   "source": [
    "a = a.unsqueeze(1)\n",
    "a.shape"
   ]
  },
  {
   "cell_type": "code",
   "execution_count": 2,
   "metadata": {},
   "outputs": [
    {
     "name": "stdout",
     "output_type": "stream",
     "text": [
      "original_sequences_youtube_c23_videos_082_face1_10_0 1\n"
     ]
    }
   ],
   "source": [
    "import os, shutil\n",
    "for d in os.listdir('E:\\\\PFE_DATA\\\\prepared_data\\\\test'):\n",
    "    l = len(os.listdir('E:\\\\PFE_DATA\\\\prepared_data\\\\test\\\\' + d))\n",
    "    if l != 10:\n",
    "        print(d, l)\n",
    "        shutil.rmtree('E:\\\\PFE_DATA\\\\prepared_data\\\\test\\\\' + d)"
   ]
  },
  {
   "cell_type": "code",
   "execution_count": null,
   "metadata": {},
   "outputs": [],
   "source": []
  }
 ],
 "metadata": {
  "kernelspec": {
   "display_name": "Python 3",
   "language": "python",
   "name": "python3"
  },
  "language_info": {
   "codemirror_mode": {
    "name": "ipython",
    "version": 3
   },
   "file_extension": ".py",
   "mimetype": "text/x-python",
   "name": "python",
   "nbconvert_exporter": "python",
   "pygments_lexer": "ipython3",
   "version": "3.7.4"
  }
 },
 "nbformat": 4,
 "nbformat_minor": 2
}
