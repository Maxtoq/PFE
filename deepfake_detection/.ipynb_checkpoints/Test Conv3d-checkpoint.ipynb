{
 "cells": [
  {
   "cell_type": "code",
   "execution_count": 1,
   "metadata": {},
   "outputs": [],
   "source": [
    "from tensorflow.keras.models import Sequential\n",
    "from tensorflow.keras.layers import Dense, Dropout, Flatten, Lambda\n",
    "from tensorflow.keras.layers import Conv3D, MaxPooling3D, ZeroPadding3D\n",
    "from tensorflow.keras.optimizers import Adam"
   ]
  },
  {
   "cell_type": "code",
   "execution_count": 14,
   "metadata": {},
   "outputs": [],
   "source": [
    "def get_3dConv_model():\n",
    "    model = Sequential()\n",
    "\n",
    "    # 1st layer group\n",
    "    model.add(Conv3D(64, (3, 3, 3), activation=\"relu\",name=\"conv1\", \n",
    "                     input_shape=(10,150,150,3),\n",
    "                     strides=(1, 1, 1), padding=\"same\"))  \n",
    "    model.add(MaxPooling3D(pool_size=(1, 2, 2), strides=(1, 2, 2), name=\"pool1\", padding=\"valid\"))\n",
    "\n",
    "    # 2nd layer group  \n",
    "    model.add(Conv3D(128, (3, 3, 3), activation=\"relu\",name=\"conv2\", \n",
    "                     strides=(1, 1, 1), padding=\"same\"))\n",
    "    model.add(MaxPooling3D(pool_size=(2, 2, 2), strides=(2, 2, 2), name=\"pool2\", padding=\"valid\"))\n",
    "\n",
    "    # 3rd layer group   \n",
    "    model.add(Conv3D(256, (3, 3, 3), activation=\"relu\",name=\"conv3a\", \n",
    "                     strides=(1, 1, 1), padding=\"same\"))\n",
    "    model.add(Conv3D(256, (3, 3, 3), activation=\"relu\",name=\"conv3b\", \n",
    "                     strides=(1, 1, 1), padding=\"same\"))\n",
    "    model.add(MaxPooling3D(pool_size=(1, 2, 2), strides=(1, 2, 2), name=\"pool3\", padding=\"valid\"))\n",
    "\n",
    "    # 4th layer group  \n",
    "    model.add(Conv3D(256, (3, 3, 3), activation=\"relu\",name=\"conv4a\", \n",
    "                     strides=(1, 1, 1), padding=\"same\"))   \n",
    "    model.add(Conv3D(256, (3, 3, 3), activation=\"relu\",name=\"conv4b\", \n",
    "                     strides=(1, 1, 1), padding=\"same\"))\n",
    "    model.add(MaxPooling3D(pool_size=(1, 2, 2), strides=(1, 2, 2), name=\"pool4\", padding=\"valid\"))\n",
    "\n",
    "    # 5th layer group  \n",
    "    model.add(Conv3D(512, (3, 3, 3), activation=\"relu\",name=\"conv5a\", \n",
    "                     strides=(1, 1, 1), padding=\"same\"))   \n",
    "    model.add(Conv3D(512, (3, 3, 3), activation=\"relu\",name=\"conv5b\",\n",
    "                      strides=(1, 1, 1), padding=\"same\"))\n",
    "    model.add(ZeroPadding3D(padding=(0, 1, 1)))\n",
    "    model.add(MaxPooling3D(pool_size=(1, 2, 2), strides=(1, 2, 2), name=\"pool5\", padding=\"valid\"))\n",
    "    model.add(Flatten())\n",
    "                     \n",
    "    # FC layers group\n",
    "    model.add(Dense(2, activation='softmax', name='fc8'))\n",
    "\n",
    "    model.compile(\n",
    "        optimizer=Adam(lr=0.0002, beta_1=0.9, beta_2=0.999, epsilon=1e-08, decay=0.0),\n",
    "        loss='categorical_crossentropy',\n",
    "        metrics=['accuracy']\n",
    "    )\n",
    "    \n",
    "    return model"
   ]
  },
  {
   "cell_type": "code",
   "execution_count": 15,
   "metadata": {},
   "outputs": [
    {
     "name": "stdout",
     "output_type": "stream",
     "text": [
      "Model: \"sequential_6\"\n",
      "_________________________________________________________________\n",
      "Layer (type)                 Output Shape              Param #   \n",
      "=================================================================\n",
      "conv1 (Conv3D)               (None, 10, 150, 150, 64)  5248      \n",
      "_________________________________________________________________\n",
      "pool1 (MaxPooling3D)         (None, 10, 75, 75, 64)    0         \n",
      "_________________________________________________________________\n",
      "conv2 (Conv3D)               (None, 10, 75, 75, 128)   221312    \n",
      "_________________________________________________________________\n",
      "pool2 (MaxPooling3D)         (None, 5, 37, 37, 128)    0         \n",
      "_________________________________________________________________\n",
      "conv3a (Conv3D)              (None, 5, 37, 37, 256)    884992    \n",
      "_________________________________________________________________\n",
      "conv3b (Conv3D)              (None, 5, 37, 37, 256)    1769728   \n",
      "_________________________________________________________________\n",
      "pool3 (MaxPooling3D)         (None, 5, 18, 18, 256)    0         \n",
      "_________________________________________________________________\n",
      "conv4a (Conv3D)              (None, 5, 18, 18, 256)    1769728   \n",
      "_________________________________________________________________\n",
      "conv4b (Conv3D)              (None, 5, 18, 18, 256)    1769728   \n",
      "_________________________________________________________________\n",
      "pool4 (MaxPooling3D)         (None, 5, 9, 9, 256)      0         \n",
      "_________________________________________________________________\n",
      "conv5a (Conv3D)              (None, 5, 9, 9, 512)      3539456   \n",
      "_________________________________________________________________\n",
      "conv5b (Conv3D)              (None, 5, 9, 9, 512)      7078400   \n",
      "_________________________________________________________________\n",
      "zero_padding3d_5 (ZeroPaddin (None, 5, 11, 11, 512)    0         \n",
      "_________________________________________________________________\n",
      "pool5 (MaxPooling3D)         (None, 5, 5, 5, 512)      0         \n",
      "_________________________________________________________________\n",
      "flatten_4 (Flatten)          (None, 64000)             0         \n",
      "_________________________________________________________________\n",
      "fc8 (Dense)                  (None, 2)                 128002    \n",
      "=================================================================\n",
      "Total params: 17,166,594\n",
      "Trainable params: 17,166,594\n",
      "Non-trainable params: 0\n",
      "_________________________________________________________________\n"
     ]
    }
   ],
   "source": [
    "my_model = get_3dConv_model()\n",
    "my_model.summary()"
   ]
  },
  {
   "cell_type": "code",
   "execution_count": 16,
   "metadata": {},
   "outputs": [],
   "source": [
    "import re\n",
    "\n",
    "def atoi(text):\n",
    "    return int(text) if text.isdigit() else text\n",
    "\n",
    "def natural_keys(text):\n",
    "    '''\n",
    "    alist.sort(key=natural_keys) sorts in human order\n",
    "    http://nedbatchelder.com/blog/200712/human_sorting.html\n",
    "    (See Toothy's implementation in the comments)\n",
    "    '''\n",
    "    return [ atoi(c) for c in re.split(r'(\\d+)', text) ]"
   ]
  },
  {
   "cell_type": "code",
   "execution_count": 17,
   "metadata": {},
   "outputs": [],
   "source": [
    "a = ['frame1.jpg', 'frame10.jpg', 'frame11.jpg', 'frame2.jpg', 'frame3.jpg', 'frame21.jpg', 'frame31.jpg', 'frame17.jpg']\n",
    "a.sort(key=natural_keys)"
   ]
  },
  {
   "cell_type": "code",
   "execution_count": 18,
   "metadata": {},
   "outputs": [
    {
     "data": {
      "text/plain": [
       "['frame1',\n",
       " 'frame2',\n",
       " 'frame3',\n",
       " 'frame10',\n",
       " 'frame11',\n",
       " 'frame17',\n",
       " 'frame21',\n",
       " 'frame31']"
      ]
     },
     "execution_count": 18,
     "metadata": {},
     "output_type": "execute_result"
    }
   ],
   "source": [
    "a"
   ]
  },
  {
   "cell_type": "code",
   "execution_count": null,
   "metadata": {},
   "outputs": [],
   "source": []
  }
 ],
 "metadata": {
  "kernelspec": {
   "display_name": "Python 3",
   "language": "python",
   "name": "python3"
  },
  "language_info": {
   "codemirror_mode": {
    "name": "ipython",
    "version": 3
   },
   "file_extension": ".py",
   "mimetype": "text/x-python",
   "name": "python",
   "nbconvert_exporter": "python",
   "pygments_lexer": "ipython3",
   "version": "3.7.4"
  }
 },
 "nbformat": 4,
 "nbformat_minor": 2
}
